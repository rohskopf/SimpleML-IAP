{
 "cells": [
  {
   "cell_type": "code",
   "execution_count": 44,
   "id": "536f392e",
   "metadata": {},
   "outputs": [],
   "source": [
    "%matplotlib inline\n",
    "\n",
    "from matplotlib import pyplot as plt\n",
    "\n",
    "import torch\n",
    "from torch import nn\n",
    "from torch import tensor"
   ]
  },
  {
   "cell_type": "code",
   "execution_count": 45,
   "id": "d223c8a8",
   "metadata": {},
   "outputs": [
    {
     "name": "stdout",
     "output_type": "stream",
     "text": [
      "torch.Size([30, 1])\n",
      "torch.Size([30])\n"
     ]
    },
    {
     "data": {
      "text/plain": [
       "[<matplotlib.lines.Line2D at 0x124dd54e0>]"
      ]
     },
     "execution_count": 45,
     "metadata": {},
     "output_type": "execute_result"
    },
    {
     "data": {
      "image/png": "[encoded data removed]",
      "text/plain": [
       "<Figure size 432x288 with 1 Axes>"
      ]
     },
     "metadata": {
      "needs_background": "light"
     },
     "output_type": "display_data"
    }
   ],
   "source": [
    "X = torch.linspace(-2., 2., 30).unsqueeze(1)\n",
    "print(X.shape)\n",
    "#Y = torch.cat([torch.zeros(10),  torch.linspace(0., 1., 10), 1. + torch.zeros(10)], dim=0)\n",
    "Y = torch.square(X).flatten()\n",
    "print(Y.shape)\n",
    "plt.plot(X.squeeze().numpy(), Y.numpy(), 'r.')"
   ]
  },
  {
   "cell_type": "code",
   "execution_count": 46,
   "id": "18213783",
   "metadata": {},
   "outputs": [],
   "source": [
    "def train(X, Y, model, loss_function, optim, num_epochs):\n",
    "    loss_history = []\n",
    "    \n",
    "    def extra_plot(*args):\n",
    "        plt.plot(X.squeeze(1).numpy(), Y.numpy(), 'r.', label=\"Ground truth\")\n",
    "        plt.plot(X.squeeze(1).numpy(), model(X).detach().numpy(), '-', label=\"Model\")\n",
    "        plt.title(\"Prediction\")\n",
    "        plt.legend(loc='lower right')\n",
    "    \n",
    "    #liveloss = PlotLosses(extra_plots=[extra_plot], plot_extrema=False)\n",
    "\n",
    "    for epoch in range(num_epochs):\n",
    "        \n",
    "        epoch_loss = 0.0\n",
    "        \n",
    "        Y_pred = model(X)\n",
    "        #print(Y_pred.shape)\n",
    "        loss = loss_function(Y_pred, Y)\n",
    "        print(f'epoch: {epoch+1}, loss = {loss.item():.4f}')\n",
    "        \n",
    "        loss.backward()\n",
    "        optim.step()\n",
    "        optim.zero_grad()"
   ]
  },
  {
   "cell_type": "code",
   "execution_count": 47,
   "id": "3ac869ba",
   "metadata": {},
   "outputs": [],
   "source": [
    "class Nonlinear(nn.Module):\n",
    "    def __init__(self, hidden_size=2):\n",
    "        super().__init__()\n",
    "        \n",
    "        self.layer_1_weights = nn.Parameter(torch.randn(1, hidden_size))\n",
    "        self.layer_1_bias = nn.Parameter(torch.randn(hidden_size)) \n",
    "        \n",
    "        self.layer_2_weights = nn.Parameter(torch.randn(hidden_size, 1) ) \n",
    "        self.layer_2_bias = nn.Parameter(torch.randn(1))\n",
    "        \n",
    "    def forward(self, x):\n",
    "        x = x.matmul(self.layer_1_weights).add(self.layer_1_bias)\n",
    "        x = x.sigmoid()\n",
    "        x = x.matmul(self.layer_2_weights).add(self.layer_2_bias)\n",
    "        return x.squeeze()\n",
    "    \n",
    "    def nonrandom_init(self):\n",
    "        self.layer_1_weights.data = tensor([[1.1, 0.8]])\n",
    "        self.layer_1_bias.data = tensor([0.5 , -0.7]) \n",
    "        self.layer_2_weights.data = tensor([[0.3], [-0.7]])\n",
    "        self.layer_2_bias.data = tensor([0.2])"
   ]
  },
  {
   "cell_type": "code",
   "execution_count": 48,
   "id": "494fd9c2",
   "metadata": {},
   "outputs": [],
   "source": [
    "nonlinear_model = Nonlinear(hidden_size=5)\n",
    "nonlinear_model.nonrandom_init()\n",
    "\n",
    "#optim = torch.optim.SGD(nonlinear_model.parameters(), lr=0.2)\n",
    "optim = torch.optim.Adam(nonlinear_model.parameters(), lr=0.1)\n",
    "loss_function = nn.MSELoss()"
   ]
  },
  {
   "cell_type": "code",
   "execution_count": 49,
   "id": "76a6352a",
   "metadata": {},
   "outputs": [
    {
     "name": "stdout",
     "output_type": "stream",
     "text": [
      "epoch: 1, loss = 3.3739\n",
      "epoch: 2, loss = 2.8480\n",
      "epoch: 3, loss = 2.4245\n",
      "epoch: 4, loss = 2.1009\n",
      "epoch: 5, loss = 1.8720\n",
      "epoch: 6, loss = 1.7299\n",
      "epoch: 7, loss = 1.6640\n",
      "epoch: 8, loss = 1.6592\n",
      "epoch: 9, loss = 1.6950\n",
      "epoch: 10, loss = 1.7476\n",
      "epoch: 11, loss = 1.7952\n",
      "epoch: 12, loss = 1.8244\n",
      "epoch: 13, loss = 1.8304\n",
      "epoch: 14, loss = 1.8156\n",
      "epoch: 15, loss = 1.7861\n",
      "epoch: 16, loss = 1.7490\n",
      "epoch: 17, loss = 1.7109\n",
      "epoch: 18, loss = 1.6773\n",
      "epoch: 19, loss = 1.6517\n",
      "epoch: 20, loss = 1.6357\n",
      "epoch: 21, loss = 1.6292\n",
      "epoch: 22, loss = 1.6306\n",
      "epoch: 23, loss = 1.6374\n",
      "epoch: 24, loss = 1.6466\n",
      "epoch: 25, loss = 1.6554\n",
      "epoch: 26, loss = 1.6617\n",
      "epoch: 27, loss = 1.6643\n",
      "epoch: 28, loss = 1.6628\n",
      "epoch: 29, loss = 1.6577\n",
      "epoch: 30, loss = 1.6499\n",
      "epoch: 31, loss = 1.6407\n",
      "epoch: 32, loss = 1.6315\n",
      "epoch: 33, loss = 1.6234\n",
      "epoch: 34, loss = 1.6172\n",
      "epoch: 35, loss = 1.6133\n",
      "epoch: 36, loss = 1.6115\n",
      "epoch: 37, loss = 1.6113\n",
      "epoch: 38, loss = 1.6117\n",
      "epoch: 39, loss = 1.6119\n",
      "epoch: 40, loss = 1.6111\n",
      "epoch: 41, loss = 1.6085\n",
      "epoch: 42, loss = 1.6040\n",
      "epoch: 43, loss = 1.5975\n",
      "epoch: 44, loss = 1.5893\n",
      "epoch: 45, loss = 1.5796\n",
      "epoch: 46, loss = 1.5691\n",
      "epoch: 47, loss = 1.5578\n",
      "epoch: 48, loss = 1.5461\n",
      "epoch: 49, loss = 1.5341\n",
      "epoch: 50, loss = 1.5216\n",
      "epoch: 51, loss = 1.5088\n",
      "epoch: 52, loss = 1.4956\n",
      "epoch: 53, loss = 1.4819\n",
      "epoch: 54, loss = 1.4678\n",
      "epoch: 55, loss = 1.4534\n",
      "epoch: 56, loss = 1.4386\n",
      "epoch: 57, loss = 1.4235\n",
      "epoch: 58, loss = 1.4080\n",
      "epoch: 59, loss = 1.3918\n",
      "epoch: 60, loss = 1.3748\n",
      "epoch: 61, loss = 1.3568\n",
      "epoch: 62, loss = 1.3376\n",
      "epoch: 63, loss = 1.3170\n",
      "epoch: 64, loss = 1.2953\n",
      "epoch: 65, loss = 1.2723\n",
      "epoch: 66, loss = 1.2483\n",
      "epoch: 67, loss = 1.2233\n",
      "epoch: 68, loss = 1.1977\n",
      "epoch: 69, loss = 1.1715\n",
      "epoch: 70, loss = 1.1447\n",
      "epoch: 71, loss = 1.1172\n",
      "epoch: 72, loss = 1.0889\n",
      "epoch: 73, loss = 1.0597\n",
      "epoch: 74, loss = 1.0296\n",
      "epoch: 75, loss = 0.9988\n",
      "epoch: 76, loss = 0.9672\n",
      "epoch: 77, loss = 0.9353\n",
      "epoch: 78, loss = 0.9032\n",
      "epoch: 79, loss = 0.8711\n",
      "epoch: 80, loss = 0.8388\n",
      "epoch: 81, loss = 0.8064\n",
      "epoch: 82, loss = 0.7737\n",
      "epoch: 83, loss = 0.7409\n",
      "epoch: 84, loss = 0.7080\n",
      "epoch: 85, loss = 0.6751\n",
      "epoch: 86, loss = 0.6426\n",
      "epoch: 87, loss = 0.6105\n",
      "epoch: 88, loss = 0.5789\n",
      "epoch: 89, loss = 0.5480\n",
      "epoch: 90, loss = 0.5177\n",
      "epoch: 91, loss = 0.4882\n",
      "epoch: 92, loss = 0.4594\n",
      "epoch: 93, loss = 0.4315\n",
      "epoch: 94, loss = 0.4046\n",
      "epoch: 95, loss = 0.3788\n",
      "epoch: 96, loss = 0.3541\n",
      "epoch: 97, loss = 0.3306\n",
      "epoch: 98, loss = 0.3081\n",
      "epoch: 99, loss = 0.2867\n",
      "epoch: 100, loss = 0.2665\n",
      "epoch: 101, loss = 0.2474\n",
      "epoch: 102, loss = 0.2296\n",
      "epoch: 103, loss = 0.2129\n",
      "epoch: 104, loss = 0.1974\n",
      "epoch: 105, loss = 0.1829\n",
      "epoch: 106, loss = 0.1695\n",
      "epoch: 107, loss = 0.1571\n",
      "epoch: 108, loss = 0.1456\n",
      "epoch: 109, loss = 0.1350\n",
      "epoch: 110, loss = 0.1253\n",
      "epoch: 111, loss = 0.1163\n",
      "epoch: 112, loss = 0.1082\n",
      "epoch: 113, loss = 0.1007\n",
      "epoch: 114, loss = 0.0939\n",
      "epoch: 115, loss = 0.0876\n",
      "epoch: 116, loss = 0.0820\n",
      "epoch: 117, loss = 0.0768\n",
      "epoch: 118, loss = 0.0721\n",
      "epoch: 119, loss = 0.0678\n",
      "epoch: 120, loss = 0.0639\n",
      "epoch: 121, loss = 0.0604\n",
      "epoch: 122, loss = 0.0571\n",
      "epoch: 123, loss = 0.0542\n",
      "epoch: 124, loss = 0.0516\n",
      "epoch: 125, loss = 0.0491\n",
      "epoch: 126, loss = 0.0469\n",
      "epoch: 127, loss = 0.0449\n",
      "epoch: 128, loss = 0.0430\n",
      "epoch: 129, loss = 0.0414\n",
      "epoch: 130, loss = 0.0398\n",
      "epoch: 131, loss = 0.0384\n",
      "epoch: 132, loss = 0.0372\n",
      "epoch: 133, loss = 0.0360\n",
      "epoch: 134, loss = 0.0349\n",
      "epoch: 135, loss = 0.0339\n",
      "epoch: 136, loss = 0.0330\n",
      "epoch: 137, loss = 0.0322\n",
      "epoch: 138, loss = 0.0315\n",
      "epoch: 139, loss = 0.0308\n",
      "epoch: 140, loss = 0.0301\n",
      "epoch: 141, loss = 0.0295\n",
      "epoch: 142, loss = 0.0290\n",
      "epoch: 143, loss = 0.0285\n",
      "epoch: 144, loss = 0.0280\n",
      "epoch: 145, loss = 0.0276\n",
      "epoch: 146, loss = 0.0272\n",
      "epoch: 147, loss = 0.0268\n",
      "epoch: 148, loss = 0.0265\n",
      "epoch: 149, loss = 0.0262\n",
      "epoch: 150, loss = 0.0259\n",
      "epoch: 151, loss = 0.0256\n",
      "epoch: 152, loss = 0.0253\n",
      "epoch: 153, loss = 0.0251\n",
      "epoch: 154, loss = 0.0248\n",
      "epoch: 155, loss = 0.0246\n",
      "epoch: 156, loss = 0.0244\n",
      "epoch: 157, loss = 0.0242\n",
      "epoch: 158, loss = 0.0240\n",
      "epoch: 159, loss = 0.0238\n",
      "epoch: 160, loss = 0.0236\n",
      "epoch: 161, loss = 0.0234\n",
      "epoch: 162, loss = 0.0233\n",
      "epoch: 163, loss = 0.0231\n",
      "epoch: 164, loss = 0.0229\n",
      "epoch: 165, loss = 0.0228\n",
      "epoch: 166, loss = 0.0226\n",
      "epoch: 167, loss = 0.0225\n",
      "epoch: 168, loss = 0.0224\n",
      "epoch: 169, loss = 0.0222\n",
      "epoch: 170, loss = 0.0221\n",
      "epoch: 171, loss = 0.0220\n",
      "epoch: 172, loss = 0.0219\n",
      "epoch: 173, loss = 0.0217\n",
      "epoch: 174, loss = 0.0216\n",
      "epoch: 175, loss = 0.0215\n",
      "epoch: 176, loss = 0.0214\n",
      "epoch: 177, loss = 0.0213\n",
      "epoch: 178, loss = 0.0212\n",
      "epoch: 179, loss = 0.0211\n",
      "epoch: 180, loss = 0.0209\n",
      "epoch: 181, loss = 0.0208\n",
      "epoch: 182, loss = 0.0207\n",
      "epoch: 183, loss = 0.0206\n",
      "epoch: 184, loss = 0.0205\n",
      "epoch: 185, loss = 0.0204\n",
      "epoch: 186, loss = 0.0203\n",
      "epoch: 187, loss = 0.0202\n",
      "epoch: 188, loss = 0.0201\n",
      "epoch: 189, loss = 0.0200\n",
      "epoch: 190, loss = 0.0199\n",
      "epoch: 191, loss = 0.0198\n",
      "epoch: 192, loss = 0.0197\n",
      "epoch: 193, loss = 0.0196\n",
      "epoch: 194, loss = 0.0195\n",
      "epoch: 195, loss = 0.0194\n",
      "epoch: 196, loss = 0.0194\n",
      "epoch: 197, loss = 0.0193\n",
      "epoch: 198, loss = 0.0192\n",
      "epoch: 199, loss = 0.0191\n",
      "epoch: 200, loss = 0.0190\n"
     ]
    }
   ],
   "source": [
    "train(X, Y, nonlinear_model, loss_function, optim, num_epochs=200)"
   ]
  },
  {
   "cell_type": "code",
   "execution_count": 50,
   "id": "f2a88b12",
   "metadata": {},
   "outputs": [
    {
     "data": {
      "image/png": "[encoded data removed]",
      "text/plain": [
       "<Figure size 432x288 with 1 Axes>"
      ]
     },
     "metadata": {
      "needs_background": "light"
     },
     "output_type": "display_data"
    }
   ],
   "source": [
    "# Plot\n",
    "predicted = nonlinear_model(X).detach().numpy()\n",
    "\n",
    "plt.plot(X.numpy(), Y.numpy(), 'ro')\n",
    "plt.plot(X.numpy(), predicted, 'b')\n",
    "plt.show()"
   ]
  },
  {
   "cell_type": "code",
   "execution_count": null,
   "id": "1652a940",
   "metadata": {},
   "outputs": [],
   "source": []
  },
  {
   "cell_type": "code",
   "execution_count": 1,
   "id": "c397c533",
   "metadata": {},
   "outputs": [
    {
     "ename": "NameError",
     "evalue": "name 'asdf' is not defined",
     "output_type": "error",
     "traceback": [
      "\u001b[0;31m---------------------------------------------------------------------------\u001b[0m",
      "\u001b[0;31mNameError\u001b[0m                                 Traceback (most recent call last)",
      "Input \u001b[0;32mIn [1]\u001b[0m, in \u001b[0;36m<cell line: 1>\u001b[0;34m()\u001b[0m\n\u001b[0;32m----> 1\u001b[0m \u001b[43masdf\u001b[49m\n",
      "\u001b[0;31mNameError\u001b[0m: name 'asdf' is not defined"
     ]
    }
   ],
   "source": [
    "asdf"
   ]
  },
  {
   "cell_type": "code",
   "execution_count": null,
   "id": "144dddd5",
   "metadata": {},
   "outputs": [],
   "source": []
  }
 ],
 "metadata": {
  "kernelspec": {
   "display_name": "Python 3 (ipykernel)",
   "language": "python",
   "name": "python3"
  },
  "language_info": {
   "codemirror_mode": {
    "name": "ipython",
    "version": 3
   },
   "file_extension": ".py",
   "mimetype": "text/x-python",
   "name": "python",
   "nbconvert_exporter": "python",
   "pygments_lexer": "ipython3",
   "version": "3.10.2"
  }
 },
 "nbformat": 4,
 "nbformat_minor": 5
}
