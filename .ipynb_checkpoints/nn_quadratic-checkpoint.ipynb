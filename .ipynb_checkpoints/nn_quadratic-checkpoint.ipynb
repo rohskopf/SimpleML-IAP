{
 "cells": [
  {
   "cell_type": "markdown",
   "id": "02be851b",
   "metadata": {},
   "source": [
    "### Simple neural network regression.\n",
    "\n",
    "Here we show a simple example of neural network (NN) regression - training a NN to reproduce a given function such as a parabola in 1D. This is similar to what happens when a NN learns the interatomic potential, which can also have a somewhat parabolic shape."
   ]
  },
  {
   "cell_type": "code",
   "execution_count": 2,
   "id": "536f392e",
   "metadata": {},
   "outputs": [],
   "source": [
    "# Import modules.\n",
    "%matplotlib inline\n",
    "from matplotlib import pyplot as plt\n",
    "import torch\n",
    "from torch import nn\n",
    "from torch import tensor"
   ]
  },
  {
   "cell_type": "markdown",
   "id": "231f5193",
   "metadata": {},
   "source": [
    "#### Defining the training data."
   ]
  },
  {
   "cell_type": "code",
   "execution_count": 6,
   "id": "d223c8a8",
   "metadata": {},
   "outputs": [
    {
     "name": "stdout",
     "output_type": "stream",
     "text": [
      "X shape:\n",
      "torch.Size([30, 1])\n",
      "Y shape:\n",
      "torch.Size([30])\n"
     ]
    },
    {
     "data": {
      "text/plain": [
       "Text(0, 0.5, 'Y')"
      ]
     },
     "execution_count": 6,
     "metadata": {},
     "output_type": "execute_result"
    },
    {
     "data": {
      "image/png": "[encoded data removed]",
      "text/plain": [
       "<Figure size 432x288 with 1 Axes>"
      ]
     },
     "metadata": {
      "needs_background": "light"
     },
     "output_type": "display_data"
    }
   ],
   "source": [
    "# Define the parabolic dataset.\n",
    "X = torch.linspace(-2., 2., 30).unsqueeze(1)\n",
    "print(\"X shape:\")\n",
    "print(X.shape)\n",
    "# Define the target data to fit to, e.g. a parabola Y = X**2\n",
    "Y = torch.square(X).flatten()\n",
    "print(\"Y shape:\")\n",
    "print(Y.shape)\n",
    "plt.plot(X.squeeze().numpy(), Y.numpy(), 'r.')\n",
    "plt.xlabel(\"X\")\n",
    "plt.ylabel(\"Y\")"
   ]
  },
  {
   "cell_type": "markdown",
   "id": "ccb45a0d",
   "metadata": {},
   "source": [
    "#### Defining the neural network training function and architecture."
   ]
  },
  {
   "cell_type": "code",
   "execution_count": 21,
   "id": "18213783",
   "metadata": {},
   "outputs": [],
   "source": [
    "\"\"\"\n",
    "Function for training the NN.\n",
    "Inputs: X - training data inputs tensor with shape [ndata, nfeatures].\n",
    "        Y - training data target tensor with shape [ndata]\n",
    "        model - a pytorch model\n",
    "        loss_function - how to calculate the loss or error\n",
    "        optim - optimizer \n",
    "        num_epochs - number of training iterations\n",
    "\"\"\"\n",
    "def train(X, Y, model, loss_function, optim, num_epochs):\n",
    "    loss_history = []\n",
    "    \n",
    "    def extra_plot(*args):\n",
    "        plt.plot(X.squeeze(1).numpy(), Y.numpy(), 'r.', label=\"Ground truth\")\n",
    "        plt.plot(X.squeeze(1).numpy(), model(X).detach().numpy(), '-', label=\"Model\")\n",
    "        plt.title(\"Prediction\")\n",
    "        plt.legend(loc='lower right')\n",
    "    \n",
    "    #liveloss = PlotLosses(extra_plots=[extra_plot], plot_extrema=False)\n",
    "\n",
    "    for epoch in range(num_epochs):\n",
    "        \n",
    "        epoch_loss = 0.0\n",
    "        \n",
    "        Y_pred = model(X)\n",
    "        #print(Y_pred.shape)\n",
    "        loss = loss_function(Y_pred, Y)\n",
    "        if (epoch % 10 == 0): \n",
    "            print(f'epoch: {epoch}, loss = {loss.item():.4f}')\n",
    "        \n",
    "        loss.backward()\n",
    "        optim.step()\n",
    "        optim.zero_grad()"
   ]
  },
  {
   "cell_type": "code",
   "execution_count": 22,
   "id": "3ac869ba",
   "metadata": {},
   "outputs": [],
   "source": [
    "\"\"\"\n",
    "Class describing our pytorch model or neural network architecture.\n",
    "It inherits objects from the nn.Module class. \n",
    "Here we define our neural network structure, which has 1 hidden layer and a variable number of nodes in the layer.\n",
    "\"\"\"\n",
    "class Nonlinear(nn.Module):\n",
    "    \n",
    "    # Initializer.\n",
    "    def __init__(self, hidden_size=2):\n",
    "        super().__init__()\n",
    "        \n",
    "        self.layer_1_weights = nn.Parameter(torch.randn(1, hidden_size))\n",
    "        self.layer_1_bias = nn.Parameter(torch.randn(hidden_size)) \n",
    "        \n",
    "        self.layer_2_weights = nn.Parameter(torch.randn(hidden_size, 1) ) \n",
    "        self.layer_2_bias = nn.Parameter(torch.randn(1))\n",
    "        \n",
    "    # Feed fordward function - here we use matrix/tensor operations to calculate the output of the neural network\n",
    "    #                          given some inputs \"x\".\n",
    "    def forward(self, x):\n",
    "        x = x.matmul(self.layer_1_weights).add(self.layer_1_bias)\n",
    "        x = x.sigmoid()\n",
    "        x = x.matmul(self.layer_2_weights).add(self.layer_2_bias)\n",
    "        return x.squeeze()\n",
    "    \n",
    "    # Optional function for setting the NN weights manually instead of random initialization. \n",
    "    def nonrandom_init(self):\n",
    "        self.layer_1_weights.data = tensor([[1.1, 0.8]])\n",
    "        self.layer_1_bias.data = tensor([0.5 , -0.7]) \n",
    "        self.layer_2_weights.data = tensor([[0.3], [-0.7]])\n",
    "        self.layer_2_bias.data = tensor([0.2])"
   ]
  },
  {
   "cell_type": "markdown",
   "id": "8c3cf9a4",
   "metadata": {},
   "source": [
    "#### Training the model.\n",
    "We've defined the training function `train()` and custom neural network class `Nonlinear`.\n",
    "Now we need to define our model, optimizer, and loss function, then train our model."
   ]
  },
  {
   "cell_type": "code",
   "execution_count": 23,
   "id": "494fd9c2",
   "metadata": {},
   "outputs": [
    {
     "name": "stdout",
     "output_type": "stream",
     "text": [
      "epoch: 0, loss = 3.3739\n",
      "epoch: 10, loss = 1.7952\n",
      "epoch: 20, loss = 1.6292\n",
      "epoch: 30, loss = 1.6407\n",
      "epoch: 40, loss = 1.6085\n",
      "epoch: 50, loss = 1.5088\n",
      "epoch: 60, loss = 1.3568\n",
      "epoch: 70, loss = 1.1172\n",
      "epoch: 80, loss = 0.8064\n",
      "epoch: 90, loss = 0.4882\n",
      "epoch: 100, loss = 0.2474\n",
      "epoch: 110, loss = 0.1163\n",
      "epoch: 120, loss = 0.0604\n",
      "epoch: 130, loss = 0.0384\n",
      "epoch: 140, loss = 0.0295\n",
      "epoch: 150, loss = 0.0256\n",
      "epoch: 160, loss = 0.0234\n",
      "epoch: 170, loss = 0.0220\n",
      "epoch: 180, loss = 0.0208\n",
      "epoch: 190, loss = 0.0198\n"
     ]
    }
   ],
   "source": [
    "# Define model.\n",
    "nonlinear_model = Nonlinear(hidden_size=5)\n",
    "nonlinear_model.nonrandom_init()\n",
    "\n",
    "# Define optimizer.\n",
    "#optim = torch.optim.SGD(nonlinear_model.parameters(), lr=0.2)\n",
    "optim = torch.optim.Adam(nonlinear_model.parameters(), lr=0.1)\n",
    "loss_function = nn.MSELoss()\n",
    "\n",
    "# Train the model \n",
    "train(X, Y, nonlinear_model, loss_function, optim, num_epochs=200)"
   ]
  },
  {
   "cell_type": "code",
   "execution_count": 24,
   "id": "f2a88b12",
   "metadata": {},
   "outputs": [
    {
     "data": {
      "image/png": "[encoded data removed]",
      "text/plain": [
       "<Figure size 432x288 with 1 Axes>"
      ]
     },
     "metadata": {
      "needs_background": "light"
     },
     "output_type": "display_data"
    }
   ],
   "source": [
    "# Now we can see how well our neural network models the data.\n",
    "predicted = nonlinear_model(X).detach().numpy()\n",
    "\n",
    "plt.plot(X.numpy(), Y.numpy(), 'ro')\n",
    "plt.plot(X.numpy(), predicted, 'b')\n",
    "plt.show()"
   ]
  }
 ],
 "metadata": {
  "kernelspec": {
   "display_name": "Python 3 (ipykernel)",
   "language": "python",
   "name": "python3"
  },
  "language_info": {
   "codemirror_mode": {
    "name": "ipython",
    "version": 3
   },
   "file_extension": ".py",
   "mimetype": "text/x-python",
   "name": "python",
   "nbconvert_exporter": "python",
   "pygments_lexer": "ipython3",
   "version": "3.10.2"
  }
 },
 "nbformat": 4,
 "nbformat_minor": 5
}
