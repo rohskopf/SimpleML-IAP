{
 "cells": [
  {
   "cell_type": "code",
   "execution_count": 1,
   "id": "f4b80457",
   "metadata": {},
   "outputs": [
    {
     "data": {
      "text/plain": [
       "'\\nThis example is the same as the previous nn_quadratic_d1, except here we use nn.Sequential \\nand a different neural network setup (which is similar to FitSNAP).\\n'"
      ]
     },
     "execution_count": 1,
     "metadata": {},
     "output_type": "execute_result"
    }
   ],
   "source": [
    "\"\"\"\n",
    "This example does neural network regression against a parabola using the same neural network setup as FitSNAP.\n",
    "\"\"\""
   ]
  },
  {
   "cell_type": "code",
   "execution_count": 2,
   "id": "88b015e8",
   "metadata": {},
   "outputs": [],
   "source": [
    "%matplotlib inline\n",
    "\n",
    "import numpy as np\n",
    "\n",
    "from matplotlib import pyplot as plt\n",
    "\n",
    "import torch\n",
    "from torch import nn\n",
    "from torch import tensor"
   ]
  },
  {
   "cell_type": "code",
   "execution_count": 3,
   "id": "e8b72fe1",
   "metadata": {},
   "outputs": [
    {
     "name": "stdout",
     "output_type": "stream",
     "text": [
      "torch.Size([30, 1])\n",
      "torch.Size([30])\n"
     ]
    },
    {
     "data": {
      "text/plain": [
       "[<matplotlib.lines.Line2D at 0x1156fad70>]"
      ]
     },
     "execution_count": 3,
     "metadata": {},
     "output_type": "execute_result"
    },
    {
     "data": {
      "image/png": "[encoded data removed]",
      "text/plain": [
       "<Figure size 432x288 with 1 Axes>"
      ]
     },
     "metadata": {
      "needs_background": "light"
     },
     "output_type": "display_data"
    }
   ],
   "source": [
    "# Make fitting data.\n",
    "X = torch.linspace(-2., 2., 30).unsqueeze(1)\n",
    "print(X.shape)\n",
    "#Y = torch.cat([torch.zeros(10),  torch.linspace(0., 1., 10), 1. + torch.zeros(10)], dim=0)\n",
    "Y = torch.square(X).flatten()\n",
    "targets = Y\n",
    "print(Y.shape)\n",
    "plt.plot(X.squeeze().numpy(), Y.numpy(), 'r.')"
   ]
  },
  {
   "cell_type": "code",
   "execution_count": 3,
   "id": "8f6f95ec",
   "metadata": {},
   "outputs": [
    {
     "name": "stdout",
     "output_type": "stream",
     "text": [
      "tensor([[-2.0000],\n",
      "        [-1.8621],\n",
      "        [-1.7241],\n",
      "        [-1.5862],\n",
      "        [-1.4483],\n",
      "        [-1.3103],\n",
      "        [-1.1724],\n",
      "        [-1.0345],\n",
      "        [-0.8966],\n",
      "        [-0.7586],\n",
      "        [-0.6207],\n",
      "        [-0.4828],\n",
      "        [-0.3448],\n",
      "        [-0.2069],\n",
      "        [-0.0690],\n",
      "        [ 0.0690],\n",
      "        [ 0.2069],\n",
      "        [ 0.3448],\n",
      "        [ 0.4828],\n",
      "        [ 0.6207],\n",
      "        [ 0.7586],\n",
      "        [ 0.8966],\n",
      "        [ 1.0345],\n",
      "        [ 1.1724],\n",
      "        [ 1.3103],\n",
      "        [ 1.4483],\n",
      "        [ 1.5862],\n",
      "        [ 1.7241],\n",
      "        [ 1.8621],\n",
      "        [ 2.0000]])\n"
     ]
    }
   ],
   "source": [
    "print(X)"
   ]
  },
  {
   "cell_type": "code",
   "execution_count": 14,
   "id": "5fd6658c",
   "metadata": {},
   "outputs": [],
   "source": [
    "\"\"\"\n",
    "Define the network parameters.\n",
    "\"\"\"\n",
    "#layer_sizes = ['num_desc', '10', '8', '6', '1'] # FitSNAP style\n",
    "#layer_sizes = [1, 10, 1]\n",
    "layer_sizes = [1,10,1]"
   ]
  },
  {
   "cell_type": "code",
   "execution_count": 15,
   "id": "c01dc00f",
   "metadata": {},
   "outputs": [
    {
     "name": "stdout",
     "output_type": "stream",
     "text": [
      "Sequential(\n",
      "  (0): Linear(in_features=1, out_features=1, bias=True)\n",
      "  (1): Linear(in_features=1, out_features=10, bias=True)\n",
      "  (2): Softplus(beta=1, threshold=20)\n",
      "  (3): Linear(in_features=10, out_features=1, bias=True)\n",
      ")\n",
      "------\n",
      "0.weight\n",
      "Parameter containing:\n",
      "tensor([[0.1663]], requires_grad=True)\n",
      "------\n",
      "0.bias\n",
      "Parameter containing:\n",
      "tensor([0.5064], requires_grad=True)\n",
      "------\n",
      "1.weight\n",
      "Parameter containing:\n",
      "tensor([[-0.5646],\n",
      "        [ 0.7498],\n",
      "        [-0.1072],\n",
      "        [ 0.1653],\n",
      "        [-0.8329],\n",
      "        [ 0.6460],\n",
      "        [-0.6743],\n",
      "        [-0.4693],\n",
      "        [ 0.1855],\n",
      "        [ 0.0071]], requires_grad=True)\n",
      "------\n",
      "1.bias\n",
      "Parameter containing:\n",
      "tensor([ 0.6970,  0.4155, -0.8340,  0.4369, -0.6814, -0.5763, -0.1586,  0.3810,\n",
      "         0.0992,  0.4875], requires_grad=True)\n",
      "------\n",
      "3.weight\n",
      "Parameter containing:\n",
      "tensor([[-0.3090, -0.1766, -0.2292, -0.0909,  0.0983, -0.1145, -0.2965, -0.1462,\n",
      "         -0.1397, -0.2676]], requires_grad=True)\n",
      "------\n",
      "3.bias\n",
      "Parameter containing:\n",
      "tensor([-0.3109], requires_grad=True)\n"
     ]
    }
   ],
   "source": [
    "\"\"\"\n",
    "Create our neural network.\n",
    "\"\"\"\n",
    "def create_torch_network(layer_sizes):\n",
    "    \"\"\"\n",
    "    Creates a pytorch network architecture from layer sizes.\n",
    "    This also performs standarization in the first linear layer.\n",
    "    ADR: No I don't think it standardizes anything...\n",
    "    This only supports softplus as the nonlinear activation function.\n",
    "\n",
    "        Parameters:\n",
    "            layer_sizes (list of ints): Size of each network layers\n",
    "\n",
    "        Return:\n",
    "            Network Architecture of type neural network sequential\n",
    "\n",
    "    \"\"\"\n",
    "    layers = []\n",
    "    try:\n",
    "        layers.append(torch.nn.Linear(layer_sizes[0], layer_sizes[0]))\n",
    "        for i, layer in enumerate(layer_sizes):\n",
    "            layers.append(torch.nn.Linear(layer_sizes[i], layer_sizes[i + 1]))\n",
    "            layers.append(torch.nn.Softplus())\n",
    "    except IndexError:\n",
    "        layers.pop()\n",
    "    return torch.nn.Sequential(*layers)\n",
    "\n",
    "network_architecture = create_torch_network(layer_sizes)\n",
    "print(network_architecture)\n",
    "#print(type(network_architecture))\n",
    "for name, param in network_architecture.named_parameters():\n",
    "    print(\"------\")\n",
    "    print(name)\n",
    "    print(param)"
   ]
  },
  {
   "cell_type": "code",
   "execution_count": 16,
   "id": "b3107193",
   "metadata": {},
   "outputs": [],
   "source": [
    "\"\"\"\n",
    "Define the model\n",
    "\"\"\"\n",
    "class FitTorch(torch.nn.Module):\n",
    "    \"\"\"\n",
    "    FitSNAP PyTorch Neural Network Architecture Model\n",
    "    Currently only fits on energies\n",
    "    \"\"\"\n",
    "\n",
    "    def __init__(self, network_architecture, descriptor_count, n_elements=1):\n",
    "        \"\"\"\n",
    "        Saves lammps ready pytorch model.\n",
    "\n",
    "            Parameters:\n",
    "                network_architecture : A nn.Sequential network architecture\n",
    "                descriptor_count (int): Length of descriptors for an atom\n",
    "                n_elements (int): Number of differentiable atoms types\n",
    "\n",
    "        \"\"\"\n",
    "        super().__init__()\n",
    "        self.network_architecture = network_architecture\n",
    "        self.desc_len = descriptor_count\n",
    "        self.n_elem = n_elements\n",
    "        \n",
    "    def forward(self, x, indices, atoms_per_structure):\n",
    "        \"\"\"\n",
    "        Saves lammps ready pytorch model.\n",
    "\n",
    "            Parameters:\n",
    "                x (tensor of floats): Array of descriptors\n",
    "                indices (tensor of ints): Array of indices upon which to contract per atom energies\n",
    "                atoms_per_structure (tensor of ints): Number of atoms per configuration\n",
    "\n",
    "        \"\"\"\n",
    "\n",
    "        predicted_energy_total = torch.zeros(atoms_per_structure.size())\n",
    "        #print(self.network_architecture(x))\n",
    "        predicted_energy_total.index_add_(0, indices, self.network_architecture(x).squeeze())\n",
    "        return predicted_energy_total\n",
    "\n",
    "    def import_wb(self, weights, bias):\n",
    "        \"\"\"\n",
    "        Imports weights and bias into FitTorch model\n",
    "\n",
    "            Parameters:\n",
    "                weights (list of numpy array of floats): Network weights at each layer\n",
    "                bias (list of numpy array of floats): Network bias at each layer\n",
    "\n",
    "        \"\"\"\n",
    "\n",
    "        assert len(weights) == len(bias)\n",
    "        imported_parameter_count = sum(w.size + b.size for w, b in zip(weights, bias))\n",
    "        combined = [None] * (len(weights) + len(bias))\n",
    "        combined[::2] = weights\n",
    "        combined[1::2] = bias\n",
    "\n",
    "        assert len([p for p in self.network_architecture.parameters()]) == len(combined)\n",
    "        assert sum(p.nelement() for p in self.network_architecture.parameters()) == imported_parameter_count\n",
    "\n",
    "        state_dict = self.state_dict()\n",
    "        for i, key in enumerate(state_dict.keys()):\n",
    "            state_dict[key] = torch.tensor(combined[i])\n",
    "        self.load_state_dict(state_dict)"
   ]
  },
  {
   "cell_type": "code",
   "execution_count": 17,
   "id": "b1b8b245",
   "metadata": {},
   "outputs": [
    {
     "name": "stdout",
     "output_type": "stream",
     "text": [
      "FitTorch(\n",
      "  (network_architecture): Sequential(\n",
      "    (0): Linear(in_features=1, out_features=1, bias=True)\n",
      "    (1): Linear(in_features=1, out_features=10, bias=True)\n",
      "    (2): Softplus(beta=1, threshold=20)\n",
      "    (3): Linear(in_features=10, out_features=1, bias=True)\n",
      "  )\n",
      ")\n"
     ]
    }
   ],
   "source": [
    "\"\"\"\n",
    "Create the model.\n",
    "\"\"\"\n",
    "nd = 1\n",
    "model = FitTorch(network_architecture, 1)\n",
    "print(model)\n",
    "#print(model.network_architecture,0,weight)"
   ]
  },
  {
   "cell_type": "code",
   "execution_count": 18,
   "id": "6427359e",
   "metadata": {},
   "outputs": [
    {
     "name": "stdout",
     "output_type": "stream",
     "text": [
      "<bound method Module.parameters of FitTorch(\n",
      "  (network_architecture): Sequential(\n",
      "    (0): Linear(in_features=1, out_features=1, bias=True)\n",
      "    (1): Linear(in_features=1, out_features=10, bias=True)\n",
      "    (2): Softplus(beta=1, threshold=20)\n",
      "    (3): Linear(in_features=10, out_features=1, bias=True)\n",
      "  )\n",
      ")>\n",
      "tensor([ 0,  1,  2,  3,  4,  5,  6,  7,  8,  9, 10, 11, 12, 13, 14, 15, 16, 17,\n",
      "        18, 19, 20, 21, 22, 23, 24, 25, 26, 27, 28, 29])\n",
      "tensor([-1.6539, -1.6520, -1.6502, -1.6484, -1.6466, -1.6449, -1.6432, -1.6416,\n",
      "        -1.6400, -1.6384, -1.6369, -1.6355, -1.6341, -1.6327, -1.6314, -1.6301,\n",
      "        -1.6289, -1.6277, -1.6266, -1.6255, -1.6244, -1.6234, -1.6225, -1.6216,\n",
      "        -1.6207, -1.6199, -1.6191, -1.6184, -1.6177, -1.6171],\n",
      "       grad_fn=<IndexAddBackward1>)\n",
      "tensor([-1.6539, -1.6520, -1.6502, -1.6484, -1.6466, -1.6449, -1.6432, -1.6416,\n",
      "        -1.6400, -1.6384, -1.6369, -1.6355, -1.6341, -1.6327, -1.6314, -1.6301,\n",
      "        -1.6289, -1.6277, -1.6266, -1.6255, -1.6244, -1.6234, -1.6225, -1.6216,\n",
      "        -1.6207, -1.6199, -1.6191, -1.6184, -1.6177, -1.6171],\n",
      "       grad_fn=<ReshapeAliasBackward0>)\n"
     ]
    }
   ],
   "source": [
    "nconfigs = 30\n",
    "num_atoms = torch.ones(nconfigs,dtype=torch.int32) # number of atoms per config\n",
    "descriptors = X\n",
    "indices = np.linspace(0,nconfigs-1,30).astype(int)\n",
    "indices = torch.from_numpy(indices)\n",
    "device = torch.device(\"cuda\" if torch.cuda.is_available() else \"cpu\")\n",
    "loss_function = torch.nn.MSELoss()\n",
    "optimizer = torch.optim.Adam(model.parameters(), lr=0.1)\n",
    "print(model.parameters)\n",
    "print(indices)\n",
    "#print(descriptors)\n",
    "#print(indices)\n",
    "#print(type(num_atoms))\n",
    "test = model(descriptors, indices, num_atoms)\n",
    "print(test)\n",
    "energies = torch.reshape(model(descriptors, indices, num_atoms), (-1,)).to(device)\n",
    "print(energies)"
   ]
  },
  {
   "cell_type": "code",
   "execution_count": 21,
   "id": "0ddb156a",
   "metadata": {},
   "outputs": [
    {
     "name": "stdout",
     "output_type": "stream",
     "text": [
      "epoch: 2, loss = 0.0013\n",
      "epoch: 12, loss = 0.0013\n",
      "epoch: 22, loss = 0.0013\n",
      "epoch: 32, loss = 0.0013\n",
      "epoch: 42, loss = 0.0014\n",
      "epoch: 52, loss = 0.0013\n",
      "epoch: 62, loss = 0.0013\n",
      "epoch: 72, loss = 0.0013\n",
      "epoch: 82, loss = 0.0013\n",
      "epoch: 92, loss = 0.0012\n"
     ]
    }
   ],
   "source": [
    "\"\"\"\n",
    "Train\n",
    "\"\"\"\n",
    "for epoch in range(100):\n",
    "    #print(epoch)\n",
    "    energies = torch.reshape(model(descriptors, indices, num_atoms), (-1,)).to(device)\n",
    "    loss = loss_function(energies/num_atoms, targets)\n",
    "    if (epoch % 10 == 1):\n",
    "        print(f'epoch: {epoch+1}, loss = {loss.item():.4f}')\n",
    "        optimizer.zero_grad()\n",
    "        loss.backward()\n",
    "        optimizer.step()"
   ]
  },
  {
   "cell_type": "code",
   "execution_count": 22,
   "id": "8e4b73ef",
   "metadata": {},
   "outputs": [
    {
     "data": {
      "image/png": "[encoded data removed]",
      "text/plain": [
       "<Figure size 432x288 with 1 Axes>"
      ]
     },
     "metadata": {
      "needs_background": "light"
     },
     "output_type": "display_data"
    }
   ],
   "source": [
    "# Plot\n",
    "predicted = model(descriptors,indices,num_atoms).detach().numpy()\n",
    "\n",
    "plt.plot(X.numpy(), Y.numpy(), 'ro')\n",
    "plt.plot(X.numpy(), predicted, 'b')\n",
    "plt.show()"
   ]
  },
  {
   "cell_type": "code",
   "execution_count": null,
   "id": "8de1927f",
   "metadata": {},
   "outputs": [],
   "source": []
  }
 ],
 "metadata": {
  "kernelspec": {
   "display_name": "Python 3 (ipykernel)",
   "language": "python",
   "name": "python3"
  },
  "language_info": {
   "codemirror_mode": {
    "name": "ipython",
    "version": 3
   },
   "file_extension": ".py",
   "mimetype": "text/x-python",
   "name": "python",
   "nbconvert_exporter": "python",
   "pygments_lexer": "ipython3",
   "version": "3.10.4"
  }
 },
 "nbformat": 4,
 "nbformat_minor": 5
}
