{
 "cells": [
  {
   "cell_type": "code",
   "execution_count": 1,
   "id": "f4b80457",
   "metadata": {},
   "outputs": [
    {
     "data": {
      "text/plain": [
       "'\\nThis example is the same as the previous nn_quadratic_d1, except here we use nn.Sequential \\nand a different neural network setup (which is similar to FitSNAP).\\n'"
      ]
     },
     "execution_count": 1,
     "metadata": {},
     "output_type": "execute_result"
    }
   ],
   "source": [
    "\"\"\"\n",
    "This example does neural network regression against a parabola using the same neural network setup as FitSNAP.\n",
    "\"\"\""
   ]
  },
  {
   "cell_type": "code",
   "execution_count": 1,
   "id": "88b015e8",
   "metadata": {},
   "outputs": [
    {
     "name": "stderr",
     "output_type": "stream",
     "text": [
      "/Users/adrohsk/venv-3.10-brew2/lib/python3.10/site-packages/tqdm/auto.py:22: TqdmWarning: IProgress not found. Please update jupyter and ipywidgets. See https://ipywidgets.readthedocs.io/en/stable/user_install.html\n",
      "  from .autonotebook import tqdm as notebook_tqdm\n"
     ]
    }
   ],
   "source": [
    "%matplotlib inline\n",
    "\n",
    "import numpy as np\n",
    "\n",
    "from matplotlib import pyplot as plt\n",
    "\n",
    "import torch\n",
    "from torch import nn\n",
    "from torch import tensor"
   ]
  },
  {
   "cell_type": "code",
   "execution_count": 2,
   "id": "e8b72fe1",
   "metadata": {},
   "outputs": [
    {
     "name": "stdout",
     "output_type": "stream",
     "text": [
      "torch.Size([30, 1])\n",
      "torch.Size([30])\n"
     ]
    },
    {
     "data": {
      "text/plain": [
       "[<matplotlib.lines.Line2D at 0x10d08d5a0>]"
      ]
     },
     "execution_count": 2,
     "metadata": {},
     "output_type": "execute_result"
    },
    {
     "data": {
      "image/png": "[encoded data removed]",
      "text/plain": [
       "<Figure size 432x288 with 1 Axes>"
      ]
     },
     "metadata": {
      "needs_background": "light"
     },
     "output_type": "display_data"
    }
   ],
   "source": [
    "# Make fitting data.\n",
    "X = torch.linspace(-2., 2., 30).unsqueeze(1)\n",
    "print(X.shape)\n",
    "#Y = torch.cat([torch.zeros(10),  torch.linspace(0., 1., 10), 1. + torch.zeros(10)], dim=0)\n",
    "Y = torch.square(X).flatten()\n",
    "targets = Y\n",
    "print(Y.shape)\n",
    "plt.plot(X.squeeze().numpy(), Y.numpy(), 'r.')"
   ]
  },
  {
   "cell_type": "code",
   "execution_count": 3,
   "id": "8f6f95ec",
   "metadata": {},
   "outputs": [
    {
     "name": "stdout",
     "output_type": "stream",
     "text": [
      "tensor([[-2.0000],\n",
      "        [-1.8621],\n",
      "        [-1.7241],\n",
      "        [-1.5862],\n",
      "        [-1.4483],\n",
      "        [-1.3103],\n",
      "        [-1.1724],\n",
      "        [-1.0345],\n",
      "        [-0.8966],\n",
      "        [-0.7586],\n",
      "        [-0.6207],\n",
      "        [-0.4828],\n",
      "        [-0.3448],\n",
      "        [-0.2069],\n",
      "        [-0.0690],\n",
      "        [ 0.0690],\n",
      "        [ 0.2069],\n",
      "        [ 0.3448],\n",
      "        [ 0.4828],\n",
      "        [ 0.6207],\n",
      "        [ 0.7586],\n",
      "        [ 0.8966],\n",
      "        [ 1.0345],\n",
      "        [ 1.1724],\n",
      "        [ 1.3103],\n",
      "        [ 1.4483],\n",
      "        [ 1.5862],\n",
      "        [ 1.7241],\n",
      "        [ 1.8621],\n",
      "        [ 2.0000]])\n"
     ]
    }
   ],
   "source": [
    "print(X)"
   ]
  },
  {
   "cell_type": "code",
   "execution_count": 30,
   "id": "5fd6658c",
   "metadata": {},
   "outputs": [],
   "source": [
    "\"\"\"\n",
    "Define the network parameters.\n",
    "\"\"\"\n",
    "#layer_sizes = ['num_desc', '10', '8', '6', '1'] # FitSNAP style\n",
    "#layer_sizes = [1, 10, 1]\n",
    "layer_sizes = [1,4,4,4,4,4,4,4,4,4,4,4,4,4,4,4,4,4,4,1]"
   ]
  },
  {
   "cell_type": "code",
   "execution_count": 31,
   "id": "c01dc00f",
   "metadata": {},
   "outputs": [
    {
     "name": "stdout",
     "output_type": "stream",
     "text": [
      "Sequential(\n",
      "  (0): Linear(in_features=1, out_features=1, bias=True)\n",
      "  (1): Linear(in_features=1, out_features=2500, bias=True)\n",
      "  (2): Softplus(beta=1, threshold=20)\n",
      "  (3): Linear(in_features=2500, out_features=2500, bias=True)\n",
      "  (4): Softplus(beta=1, threshold=20)\n",
      "  (5): Linear(in_features=2500, out_features=1, bias=True)\n",
      ")\n",
      "------\n",
      "0.weight\n",
      "Parameter containing:\n",
      "tensor([[0.5539]], requires_grad=True)\n",
      "------\n",
      "0.bias\n",
      "Parameter containing:\n",
      "tensor([0.4600], requires_grad=True)\n",
      "------\n",
      "1.weight\n",
      "Parameter containing:\n",
      "tensor([[ 0.0687],\n",
      "        [-0.8191],\n",
      "        [ 0.0537],\n",
      "        ...,\n",
      "        [ 0.1882],\n",
      "        [ 0.7599],\n",
      "        [ 0.6812]], requires_grad=True)\n",
      "------\n",
      "1.bias\n",
      "Parameter containing:\n",
      "tensor([ 0.8736,  0.2200,  0.5445,  ..., -0.7148,  0.4597,  0.4008],\n",
      "       requires_grad=True)\n",
      "------\n",
      "3.weight\n",
      "Parameter containing:\n",
      "tensor([[-0.0089, -0.0093, -0.0055,  ...,  0.0173,  0.0191, -0.0136],\n",
      "        [ 0.0081, -0.0042, -0.0030,  ...,  0.0017, -0.0037,  0.0008],\n",
      "        [ 0.0029, -0.0069,  0.0195,  ...,  0.0069, -0.0059, -0.0059],\n",
      "        ...,\n",
      "        [-0.0097,  0.0076, -0.0037,  ..., -0.0179, -0.0025,  0.0113],\n",
      "        [-0.0054, -0.0164,  0.0169,  ..., -0.0178, -0.0033, -0.0163],\n",
      "        [-0.0062,  0.0035,  0.0197,  ...,  0.0023,  0.0071,  0.0168]],\n",
      "       requires_grad=True)\n",
      "------\n",
      "3.bias\n",
      "Parameter containing:\n",
      "tensor([ 0.0003, -0.0069, -0.0038,  ..., -0.0095,  0.0064,  0.0054],\n",
      "       requires_grad=True)\n",
      "------\n",
      "5.weight\n",
      "Parameter containing:\n",
      "tensor([[-0.0097, -0.0079, -0.0174,  ...,  0.0087,  0.0080, -0.0169]],\n",
      "       requires_grad=True)\n",
      "------\n",
      "5.bias\n",
      "Parameter containing:\n",
      "tensor([0.0109], requires_grad=True)\n"
     ]
    }
   ],
   "source": [
    "\"\"\"\n",
    "Create our neural network.\n",
    "\"\"\"\n",
    "def create_torch_network(layer_sizes):\n",
    "    \"\"\"\n",
    "    Creates a pytorch network architecture from layer sizes.\n",
    "    This also performs standarization in the first linear layer.\n",
    "    ADR: No I don't think it standardizes anything...\n",
    "    This only supports softplus as the nonlinear activation function.\n",
    "\n",
    "        Parameters:\n",
    "            layer_sizes (list of ints): Size of each network layers\n",
    "\n",
    "        Return:\n",
    "            Network Architecture of type neural network sequential\n",
    "\n",
    "    \"\"\"\n",
    "    layers = []\n",
    "    try:\n",
    "        layers.append(torch.nn.Linear(layer_sizes[0], layer_sizes[0]))\n",
    "        for i, layer in enumerate(layer_sizes):\n",
    "            layers.append(torch.nn.Linear(layer_sizes[i], layer_sizes[i + 1]))\n",
    "            layers.append(torch.nn.Softplus())\n",
    "    except IndexError:\n",
    "        layers.pop()\n",
    "    return torch.nn.Sequential(*layers)\n",
    "\n",
    "network_architecture = create_torch_network(layer_sizes)\n",
    "print(network_architecture)\n",
    "#print(type(network_architecture))\n",
    "for name, param in network_architecture.named_parameters():\n",
    "    print(\"------\")\n",
    "    print(name)\n",
    "    print(param)"
   ]
  },
  {
   "cell_type": "code",
   "execution_count": 32,
   "id": "b3107193",
   "metadata": {},
   "outputs": [],
   "source": [
    "\"\"\"\n",
    "Define the model\n",
    "\"\"\"\n",
    "class FitTorch(torch.nn.Module):\n",
    "    \"\"\"\n",
    "    FitSNAP PyTorch Neural Network Architecture Model\n",
    "    Currently only fits on energies\n",
    "    \"\"\"\n",
    "\n",
    "    def __init__(self, network_architecture, descriptor_count, n_elements=1):\n",
    "        \"\"\"\n",
    "        Saves lammps ready pytorch model.\n",
    "\n",
    "            Parameters:\n",
    "                network_architecture : A nn.Sequential network architecture\n",
    "                descriptor_count (int): Length of descriptors for an atom\n",
    "                n_elements (int): Number of differentiable atoms types\n",
    "\n",
    "        \"\"\"\n",
    "        super().__init__()\n",
    "        self.network_architecture = network_architecture\n",
    "        self.desc_len = descriptor_count\n",
    "        self.n_elem = n_elements\n",
    "        \n",
    "    def forward(self, x, indices, atoms_per_structure):\n",
    "        \"\"\"\n",
    "        Saves lammps ready pytorch model.\n",
    "\n",
    "            Parameters:\n",
    "                x (tensor of floats): Array of descriptors\n",
    "                indices (tensor of ints): Array of indices upon which to contract per atom energies\n",
    "                atoms_per_structure (tensor of ints): Number of atoms per configuration\n",
    "\n",
    "        \"\"\"\n",
    "\n",
    "        predicted_energy_total = torch.zeros(atoms_per_structure.size())\n",
    "        #print(self.network_architecture(x))\n",
    "        predicted_energy_total.index_add_(0, indices, self.network_architecture(x).squeeze())\n",
    "        return predicted_energy_total\n",
    "\n",
    "    def import_wb(self, weights, bias):\n",
    "        \"\"\"\n",
    "        Imports weights and bias into FitTorch model\n",
    "\n",
    "            Parameters:\n",
    "                weights (list of numpy array of floats): Network weights at each layer\n",
    "                bias (list of numpy array of floats): Network bias at each layer\n",
    "\n",
    "        \"\"\"\n",
    "\n",
    "        assert len(weights) == len(bias)\n",
    "        imported_parameter_count = sum(w.size + b.size for w, b in zip(weights, bias))\n",
    "        combined = [None] * (len(weights) + len(bias))\n",
    "        combined[::2] = weights\n",
    "        combined[1::2] = bias\n",
    "\n",
    "        assert len([p for p in self.network_architecture.parameters()]) == len(combined)\n",
    "        assert sum(p.nelement() for p in self.network_architecture.parameters()) == imported_parameter_count\n",
    "\n",
    "        state_dict = self.state_dict()\n",
    "        for i, key in enumerate(state_dict.keys()):\n",
    "            state_dict[key] = torch.tensor(combined[i])\n",
    "        self.load_state_dict(state_dict)"
   ]
  },
  {
   "cell_type": "code",
   "execution_count": 33,
   "id": "b1b8b245",
   "metadata": {},
   "outputs": [
    {
     "name": "stdout",
     "output_type": "stream",
     "text": [
      "FitTorch(\n",
      "  (network_architecture): Sequential(\n",
      "    (0): Linear(in_features=1, out_features=1, bias=True)\n",
      "    (1): Linear(in_features=1, out_features=2500, bias=True)\n",
      "    (2): Softplus(beta=1, threshold=20)\n",
      "    (3): Linear(in_features=2500, out_features=2500, bias=True)\n",
      "    (4): Softplus(beta=1, threshold=20)\n",
      "    (5): Linear(in_features=2500, out_features=1, bias=True)\n",
      "  )\n",
      ")\n"
     ]
    }
   ],
   "source": [
    "\"\"\"\n",
    "Create the model.\n",
    "\"\"\"\n",
    "nd = 1\n",
    "model = FitTorch(network_architecture, 1)\n",
    "print(model)\n",
    "#print(model.network_architecture,0,weight)"
   ]
  },
  {
   "cell_type": "code",
   "execution_count": 36,
   "id": "6427359e",
   "metadata": {},
   "outputs": [
    {
     "name": "stdout",
     "output_type": "stream",
     "text": [
      "<bound method Module.parameters of FitTorch(\n",
      "  (network_architecture): Sequential(\n",
      "    (0): Linear(in_features=1, out_features=1, bias=True)\n",
      "    (1): Linear(in_features=1, out_features=2500, bias=True)\n",
      "    (2): Softplus(beta=1, threshold=20)\n",
      "    (3): Linear(in_features=2500, out_features=2500, bias=True)\n",
      "    (4): Softplus(beta=1, threshold=20)\n",
      "    (5): Linear(in_features=2500, out_features=1, bias=True)\n",
      "  )\n",
      ")>\n",
      "tensor([ 0,  1,  2,  3,  4,  5,  6,  7,  8,  9, 10, 11, 12, 13, 14, 15, 16, 17,\n",
      "        18, 19, 20, 21, 22, 23, 24, 25, 26, 27, 28, 29])\n",
      "tensor([0.2033, 0.2034, 0.2036, 0.2038, 0.2040, 0.2043, 0.2046, 0.2050, 0.2054,\n",
      "        0.2058, 0.2063, 0.2068, 0.2073, 0.2079, 0.2085, 0.2091, 0.2098, 0.2105,\n",
      "        0.2112, 0.2120, 0.2128, 0.2137, 0.2147, 0.2156, 0.2167, 0.2178, 0.2190,\n",
      "        0.2202, 0.2215, 0.2228], grad_fn=<IndexAddBackward1>)\n",
      "tensor([0.2033, 0.2034, 0.2036, 0.2038, 0.2040, 0.2043, 0.2046, 0.2050, 0.2054,\n",
      "        0.2058, 0.2063, 0.2068, 0.2073, 0.2079, 0.2085, 0.2091, 0.2098, 0.2105,\n",
      "        0.2112, 0.2120, 0.2128, 0.2137, 0.2147, 0.2156, 0.2167, 0.2178, 0.2190,\n",
      "        0.2202, 0.2215, 0.2228], grad_fn=<ReshapeAliasBackward0>)\n"
     ]
    }
   ],
   "source": [
    "nconfigs = 30\n",
    "num_atoms = torch.ones(nconfigs,dtype=torch.int32) # number of atoms per config\n",
    "descriptors = X\n",
    "indices = np.linspace(0,nconfigs-1,30).astype(int)\n",
    "indices = torch.from_numpy(indices)\n",
    "device = torch.device(\"cuda\" if torch.cuda.is_available() else \"cpu\")\n",
    "loss_function = torch.nn.MSELoss()\n",
    "optimizer = torch.optim.Adam(model.parameters(), lr=1e-3)\n",
    "print(model.parameters)\n",
    "print(indices)\n",
    "#print(descriptors)\n",
    "#print(indices)\n",
    "#print(type(num_atoms))\n",
    "test = model(descriptors, indices, num_atoms)\n",
    "print(test)\n",
    "energies = torch.reshape(model(descriptors, indices, num_atoms), (-1,)).to(device)\n",
    "print(energies)"
   ]
  },
  {
   "cell_type": "code",
   "execution_count": 37,
   "id": "0ddb156a",
   "metadata": {},
   "outputs": [
    {
     "name": "stdout",
     "output_type": "stream",
     "text": [
      "epoch: 2, loss = 3.0926\n",
      "epoch: 102, loss = 613298496.0000\n",
      "epoch: 202, loss = 1885649.3750\n",
      "epoch: 302, loss = 3.6691\n",
      "epoch: 402, loss = 3.8146\n",
      "epoch: 502, loss = 3.9414\n",
      "epoch: 602, loss = 4.0536\n",
      "epoch: 702, loss = 4.1537\n",
      "epoch: 802, loss = 4.2436\n",
      "epoch: 902, loss = 4.3248\n",
      "epoch: 1002, loss = 4.3982\n",
      "epoch: 1102, loss = 4.4648\n",
      "epoch: 1202, loss = 4.5254\n",
      "epoch: 1302, loss = 4.5806\n",
      "epoch: 1402, loss = 4.6308\n",
      "epoch: 1502, loss = 4.6767\n",
      "epoch: 1602, loss = 4.7185\n",
      "epoch: 1702, loss = 4.7567\n",
      "epoch: 1802, loss = 4.7915\n",
      "epoch: 1902, loss = 4.8234\n",
      "epoch: 2002, loss = 4.8524\n",
      "epoch: 2102, loss = 4.8790\n",
      "epoch: 2202, loss = 4.9033\n",
      "epoch: 2302, loss = 4.9254\n",
      "epoch: 2402, loss = 4.9456\n",
      "epoch: 2502, loss = 4.9641\n",
      "epoch: 2602, loss = 4.9809\n",
      "epoch: 2702, loss = 4.9963\n"
     ]
    },
    {
     "ename": "KeyboardInterrupt",
     "evalue": "",
     "output_type": "error",
     "traceback": [
      "\u001b[0;31m---------------------------------------------------------------------------\u001b[0m",
      "\u001b[0;31mKeyboardInterrupt\u001b[0m                         Traceback (most recent call last)",
      "Input \u001b[0;32mIn [37]\u001b[0m, in \u001b[0;36m<cell line: 4>\u001b[0;34m()\u001b[0m\n\u001b[1;32m     10\u001b[0m optimizer\u001b[38;5;241m.\u001b[39mzero_grad()\n\u001b[1;32m     11\u001b[0m loss\u001b[38;5;241m.\u001b[39mbackward()\n\u001b[0;32m---> 12\u001b[0m \u001b[43moptimizer\u001b[49m\u001b[38;5;241;43m.\u001b[39;49m\u001b[43mstep\u001b[49m\u001b[43m(\u001b[49m\u001b[43m)\u001b[49m\n",
      "File \u001b[0;32m~/venv-3.10-brew2/lib/python3.10/site-packages/torch/optim/optimizer.py:88\u001b[0m, in \u001b[0;36mOptimizer._hook_for_profile.<locals>.profile_hook_step.<locals>.wrapper\u001b[0;34m(*args, **kwargs)\u001b[0m\n\u001b[1;32m     86\u001b[0m profile_name \u001b[38;5;241m=\u001b[39m \u001b[38;5;124m\"\u001b[39m\u001b[38;5;124mOptimizer.step#\u001b[39m\u001b[38;5;132;01m{}\u001b[39;00m\u001b[38;5;124m.step\u001b[39m\u001b[38;5;124m\"\u001b[39m\u001b[38;5;241m.\u001b[39mformat(obj\u001b[38;5;241m.\u001b[39m\u001b[38;5;18m__class__\u001b[39m\u001b[38;5;241m.\u001b[39m\u001b[38;5;18m__name__\u001b[39m)\n\u001b[1;32m     87\u001b[0m \u001b[38;5;28;01mwith\u001b[39;00m torch\u001b[38;5;241m.\u001b[39mautograd\u001b[38;5;241m.\u001b[39mprofiler\u001b[38;5;241m.\u001b[39mrecord_function(profile_name):\n\u001b[0;32m---> 88\u001b[0m     \u001b[38;5;28;01mreturn\u001b[39;00m \u001b[43mfunc\u001b[49m\u001b[43m(\u001b[49m\u001b[38;5;241;43m*\u001b[39;49m\u001b[43margs\u001b[49m\u001b[43m,\u001b[49m\u001b[43m \u001b[49m\u001b[38;5;241;43m*\u001b[39;49m\u001b[38;5;241;43m*\u001b[39;49m\u001b[43mkwargs\u001b[49m\u001b[43m)\u001b[49m\n",
      "File \u001b[0;32m~/venv-3.10-brew2/lib/python3.10/site-packages/torch/autograd/grad_mode.py:27\u001b[0m, in \u001b[0;36m_DecoratorContextManager.__call__.<locals>.decorate_context\u001b[0;34m(*args, **kwargs)\u001b[0m\n\u001b[1;32m     24\u001b[0m \u001b[38;5;129m@functools\u001b[39m\u001b[38;5;241m.\u001b[39mwraps(func)\n\u001b[1;32m     25\u001b[0m \u001b[38;5;28;01mdef\u001b[39;00m \u001b[38;5;21mdecorate_context\u001b[39m(\u001b[38;5;241m*\u001b[39margs, \u001b[38;5;241m*\u001b[39m\u001b[38;5;241m*\u001b[39mkwargs):\n\u001b[1;32m     26\u001b[0m     \u001b[38;5;28;01mwith\u001b[39;00m \u001b[38;5;28mself\u001b[39m\u001b[38;5;241m.\u001b[39mclone():\n\u001b[0;32m---> 27\u001b[0m         \u001b[38;5;28;01mreturn\u001b[39;00m \u001b[43mfunc\u001b[49m\u001b[43m(\u001b[49m\u001b[38;5;241;43m*\u001b[39;49m\u001b[43margs\u001b[49m\u001b[43m,\u001b[49m\u001b[43m \u001b[49m\u001b[38;5;241;43m*\u001b[39;49m\u001b[38;5;241;43m*\u001b[39;49m\u001b[43mkwargs\u001b[49m\u001b[43m)\u001b[49m\n",
      "File \u001b[0;32m~/venv-3.10-brew2/lib/python3.10/site-packages/torch/optim/adam.py:141\u001b[0m, in \u001b[0;36mAdam.step\u001b[0;34m(self, closure)\u001b[0m\n\u001b[1;32m    138\u001b[0m             \u001b[38;5;66;03m# record the step after step update\u001b[39;00m\n\u001b[1;32m    139\u001b[0m             state_steps\u001b[38;5;241m.\u001b[39mappend(state[\u001b[38;5;124m'\u001b[39m\u001b[38;5;124mstep\u001b[39m\u001b[38;5;124m'\u001b[39m])\n\u001b[0;32m--> 141\u001b[0m     \u001b[43mF\u001b[49m\u001b[38;5;241;43m.\u001b[39;49m\u001b[43madam\u001b[49m\u001b[43m(\u001b[49m\u001b[43mparams_with_grad\u001b[49m\u001b[43m,\u001b[49m\n\u001b[1;32m    142\u001b[0m \u001b[43m           \u001b[49m\u001b[43mgrads\u001b[49m\u001b[43m,\u001b[49m\n\u001b[1;32m    143\u001b[0m \u001b[43m           \u001b[49m\u001b[43mexp_avgs\u001b[49m\u001b[43m,\u001b[49m\n\u001b[1;32m    144\u001b[0m \u001b[43m           \u001b[49m\u001b[43mexp_avg_sqs\u001b[49m\u001b[43m,\u001b[49m\n\u001b[1;32m    145\u001b[0m \u001b[43m           \u001b[49m\u001b[43mmax_exp_avg_sqs\u001b[49m\u001b[43m,\u001b[49m\n\u001b[1;32m    146\u001b[0m \u001b[43m           \u001b[49m\u001b[43mstate_steps\u001b[49m\u001b[43m,\u001b[49m\n\u001b[1;32m    147\u001b[0m \u001b[43m           \u001b[49m\u001b[43mamsgrad\u001b[49m\u001b[38;5;241;43m=\u001b[39;49m\u001b[43mgroup\u001b[49m\u001b[43m[\u001b[49m\u001b[38;5;124;43m'\u001b[39;49m\u001b[38;5;124;43mamsgrad\u001b[39;49m\u001b[38;5;124;43m'\u001b[39;49m\u001b[43m]\u001b[49m\u001b[43m,\u001b[49m\n\u001b[1;32m    148\u001b[0m \u001b[43m           \u001b[49m\u001b[43mbeta1\u001b[49m\u001b[38;5;241;43m=\u001b[39;49m\u001b[43mbeta1\u001b[49m\u001b[43m,\u001b[49m\n\u001b[1;32m    149\u001b[0m \u001b[43m           \u001b[49m\u001b[43mbeta2\u001b[49m\u001b[38;5;241;43m=\u001b[39;49m\u001b[43mbeta2\u001b[49m\u001b[43m,\u001b[49m\n\u001b[1;32m    150\u001b[0m \u001b[43m           \u001b[49m\u001b[43mlr\u001b[49m\u001b[38;5;241;43m=\u001b[39;49m\u001b[43mgroup\u001b[49m\u001b[43m[\u001b[49m\u001b[38;5;124;43m'\u001b[39;49m\u001b[38;5;124;43mlr\u001b[39;49m\u001b[38;5;124;43m'\u001b[39;49m\u001b[43m]\u001b[49m\u001b[43m,\u001b[49m\n\u001b[1;32m    151\u001b[0m \u001b[43m           \u001b[49m\u001b[43mweight_decay\u001b[49m\u001b[38;5;241;43m=\u001b[39;49m\u001b[43mgroup\u001b[49m\u001b[43m[\u001b[49m\u001b[38;5;124;43m'\u001b[39;49m\u001b[38;5;124;43mweight_decay\u001b[39;49m\u001b[38;5;124;43m'\u001b[39;49m\u001b[43m]\u001b[49m\u001b[43m,\u001b[49m\n\u001b[1;32m    152\u001b[0m \u001b[43m           \u001b[49m\u001b[43meps\u001b[49m\u001b[38;5;241;43m=\u001b[39;49m\u001b[43mgroup\u001b[49m\u001b[43m[\u001b[49m\u001b[38;5;124;43m'\u001b[39;49m\u001b[38;5;124;43meps\u001b[39;49m\u001b[38;5;124;43m'\u001b[39;49m\u001b[43m]\u001b[49m\u001b[43m,\u001b[49m\n\u001b[1;32m    153\u001b[0m \u001b[43m           \u001b[49m\u001b[43mmaximize\u001b[49m\u001b[38;5;241;43m=\u001b[39;49m\u001b[43mgroup\u001b[49m\u001b[43m[\u001b[49m\u001b[38;5;124;43m'\u001b[39;49m\u001b[38;5;124;43mmaximize\u001b[39;49m\u001b[38;5;124;43m'\u001b[39;49m\u001b[43m]\u001b[49m\u001b[43m)\u001b[49m\n\u001b[1;32m    154\u001b[0m \u001b[38;5;28;01mreturn\u001b[39;00m loss\n",
      "File \u001b[0;32m~/venv-3.10-brew2/lib/python3.10/site-packages/torch/optim/_functional.py:105\u001b[0m, in \u001b[0;36madam\u001b[0;34m(params, grads, exp_avgs, exp_avg_sqs, max_exp_avg_sqs, state_steps, amsgrad, beta1, beta2, lr, weight_decay, eps, maximize)\u001b[0m\n\u001b[1;32m    103\u001b[0m     denom \u001b[38;5;241m=\u001b[39m (max_exp_avg_sqs[i]\u001b[38;5;241m.\u001b[39msqrt() \u001b[38;5;241m/\u001b[39m math\u001b[38;5;241m.\u001b[39msqrt(bias_correction2))\u001b[38;5;241m.\u001b[39madd_(eps)\n\u001b[1;32m    104\u001b[0m \u001b[38;5;28;01melse\u001b[39;00m:\n\u001b[0;32m--> 105\u001b[0m     denom \u001b[38;5;241m=\u001b[39m \u001b[43m(\u001b[49m\u001b[43mexp_avg_sq\u001b[49m\u001b[38;5;241;43m.\u001b[39;49m\u001b[43msqrt\u001b[49m\u001b[43m(\u001b[49m\u001b[43m)\u001b[49m\u001b[43m \u001b[49m\u001b[38;5;241;43m/\u001b[39;49m\u001b[43m \u001b[49m\u001b[43mmath\u001b[49m\u001b[38;5;241;43m.\u001b[39;49m\u001b[43msqrt\u001b[49m\u001b[43m(\u001b[49m\u001b[43mbias_correction2\u001b[49m\u001b[43m)\u001b[49m\u001b[43m)\u001b[49m\u001b[38;5;241;43m.\u001b[39;49m\u001b[43madd_\u001b[49m\u001b[43m(\u001b[49m\u001b[43meps\u001b[49m\u001b[43m)\u001b[49m\n\u001b[1;32m    109\u001b[0m step_size \u001b[38;5;241m=\u001b[39m lr \u001b[38;5;241m/\u001b[39m bias_correction1\n\u001b[1;32m    110\u001b[0m param\u001b[38;5;241m.\u001b[39maddcdiv_(exp_avg, denom, value\u001b[38;5;241m=\u001b[39m\u001b[38;5;241m-\u001b[39mstep_size)\n",
      "\u001b[0;31mKeyboardInterrupt\u001b[0m: "
     ]
    }
   ],
   "source": [
    "\"\"\"\n",
    "Train\n",
    "\"\"\"\n",
    "for epoch in range(100000):\n",
    "    #print(epoch)\n",
    "    energies = torch.reshape(model(descriptors, indices, num_atoms), (-1,)).to(device)\n",
    "    loss = loss_function(energies/num_atoms, targets)\n",
    "    if (epoch % 100 == 1):\n",
    "        print(f'epoch: {epoch+1}, loss = {loss.item():.4f}')\n",
    "        optimizer.zero_grad()\n",
    "        loss.backward()\n",
    "        optimizer.step()"
   ]
  },
  {
   "cell_type": "code",
   "execution_count": 29,
   "id": "8e4b73ef",
   "metadata": {},
   "outputs": [
    {
     "data": {
      "image/png": "[encoded data removed]",
      "text/plain": [
       "<Figure size 432x288 with 1 Axes>"
      ]
     },
     "metadata": {
      "needs_background": "light"
     },
     "output_type": "display_data"
    }
   ],
   "source": [
    "# Plot\n",
    "predicted = model(descriptors,indices,num_atoms).detach().numpy()\n",
    "\n",
    "plt.plot(X.numpy(), Y.numpy(), 'ro')\n",
    "plt.plot(X.numpy(), predicted, 'b')\n",
    "plt.show()"
   ]
  },
  {
   "cell_type": "code",
   "execution_count": null,
   "id": "8de1927f",
   "metadata": {},
   "outputs": [],
   "source": []
  }
 ],
 "metadata": {
  "kernelspec": {
   "display_name": "Python 3 (ipykernel)",
   "language": "python",
   "name": "python3"
  },
  "language_info": {
   "codemirror_mode": {
    "name": "ipython",
    "version": 3
   },
   "file_extension": ".py",
   "mimetype": "text/x-python",
   "name": "python",
   "nbconvert_exporter": "python",
   "pygments_lexer": "ipython3",
   "version": "3.10.4"
  }
 },
 "nbformat": 4,
 "nbformat_minor": 5
}
